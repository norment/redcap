{
 "cells": [
  {
   "cell_type": "code",
   "execution_count": 1,
   "metadata": {},
   "outputs": [],
   "source": [
    "# This is a small-scale example showing how to use Pycap Project\n",
    "\n",
    "# 1. Go to redcap instance in a browser and create a new empty project.\n",
    "# 2. Disable \"auto-numbering for records\"  option\n",
    "# 3. Navigate to playground. Click \"request API tocken\". Copy the token, and and copy it here to this jupyter notebook\n",
    "#    (assign TOKENT variable to the token)\n",
    "import redcap as pycap\n",
    "\n",
    "TOKEN = '1029312E65139C7D3D90E78797AB1CD2'   # <------ put your token here\n",
    "URL = 'http://p33-service-l.tsd.usit.no:8000/redcap/api/' \n",
    "project = pycap.Project(URL, TOKEN)\n"
   ]
  },
  {
   "cell_type": "code",
   "execution_count": 4,
   "metadata": {},
   "outputs": [
    {
     "name": "stdout",
     "output_type": "stream",
     "text": [
      "record_id (text) ---> record_id label\n",
      "field1 (text) ---> field1 label\n",
      "field123 (text) ---> field123 label\n",
      "my_new_field2 (text) ---> my_new_field2 label\n"
     ]
    }
   ],
   "source": [
    "# List meta-data (also known as \"fields\" or \"data dictionary\") that exist within a redcap project\n",
    "# At the beginning you only expect a single data field called record_id\n",
    "for field in project.metadata:\n",
    "    print (\"%s (%s) ---> %s\" % (field['field_name'], field['field_type'], field['field_label']))"
   ]
  },
  {
   "cell_type": "code",
   "execution_count": 5,
   "metadata": {},
   "outputs": [
    {
     "data": {
      "text/plain": [
       "3"
      ]
     },
     "execution_count": 5,
     "metadata": {},
     "output_type": "execute_result"
    }
   ],
   "source": [
    "# Create  a set of fields from scratch using Pycap \"import_metadata\" method\n",
    "# 3. Setup a set of fields called record_id, field1, field123\n",
    "# For this we need a helper function make_field that generates a json object having a bunch of values required by redcap\n",
    "# We'll only use 'field_name' and 'form_name' - everything else is kept empty or default\n",
    "#\n",
    "# To validate that this worked, go to redcap Codebook, and see that new fields exist in a project.\n",
    " \n",
    "def make_field(field_id, form_name='my_first_instrument'):\n",
    "    return {'field_name': field_id,\n",
    "      'form_name': form_name,\n",
    "      'section_header': '',\n",
    "      'field_type': 'text',\n",
    "      'field_label': field_id + ' label',\n",
    "      'select_choices_or_calculations': '',\n",
    "      'field_note': '',\n",
    "      'text_validation_type_or_show_slider_number': '',\n",
    "      'text_validation_min': '',\n",
    "      'text_validation_max': '',\n",
    "      'identifier': '',\n",
    "      'branching_logic': '',\n",
    "      'required_field': '',\n",
    "      'custom_alignment': '',\n",
    "      'question_number': '',\n",
    "      'matrix_group_name': '',\n",
    "      'matrix_ranking': '',\n",
    "      'field_annotation': ''}\n",
    "\n",
    "# Now we're actually importing meta-data\n",
    "metadata = [make_field('record_id'), make_field('field1'), make_field('field123')]\n",
    "project.import_metadata(metadata,  format=\"json\", return_format=\"json\")"
   ]
  },
  {
   "cell_type": "code",
   "execution_count": 6,
   "metadata": {},
   "outputs": [
    {
     "data": {
      "text/plain": [
       "4"
      ]
     },
     "execution_count": 6,
     "metadata": {},
     "output_type": "execute_result"
    }
   ],
   "source": [
    "# Now, add one more data field . Note that to add field you need to export meta-data,\n",
    "# and and the ne field to it.\n",
    "# Btw, we're now putting the ne field int 'repeated-form', i..e on a separate data collection instrument.\n",
    "# After you execute this command check the redcap codebook to see how a separate data collection instrument look like.\n",
    "metadata = project.export_metadata()\n",
    "metadata.append(make_field('my_new_field2', 'repeated_form'))\n",
    "project.import_metadata(metadata,  format=\"json\", return_format=\"json\")"
   ]
  },
  {
   "cell_type": "code",
   "execution_count": 7,
   "metadata": {},
   "outputs": [
    {
     "data": {
      "text/plain": [
       "{'count': 1}"
      ]
     },
     "execution_count": 7,
     "metadata": {},
     "output_type": "execute_result"
    }
   ],
   "source": [
    "# 5. Now we're going to create a new record \n",
    "# After you execute this command check  \"Data Exports, Reports, and Stats\". Select \"View report\" under \"All data\".\n",
    "project.import_records([{'record_id':'subj1', 'field123':'test api'}])\n"
   ]
  },
  {
   "cell_type": "code",
   "execution_count": 9,
   "metadata": {},
   "outputs": [],
   "source": [
    "# 6.Now, we export records - just for fun, let's see if we can use API to extract the data from the REDcap\n",
    "records=project.export_records(fields=['field1', 'field123'])"
   ]
  },
  {
   "cell_type": "code",
   "execution_count": 10,
   "metadata": {},
   "outputs": [
    {
     "data": {
      "text/plain": [
       "{'count': 1}"
      ]
     },
     "execution_count": 10,
     "metadata": {},
     "output_type": "execute_result"
    }
   ],
   "source": [
    "# Now we're going to do something tricky.\n",
    "# Go to the settings of your redcap project and configure it as follows\n",
    "# 1. Enable  Use longitudinal data collection with defined events\n",
    "# 2. Click \"Define my events\", type \"Event 2\", and save this new event. Now you have two events - \"Event 1\" and \"Event 2\".\n",
    "#    Note that redcap has a system name (\"Unique event name, auto-generated\") for those events:\n",
    "#        event_1_arm_1\n",
    "#        event_2_arm_1\n",
    "# 3. Go back to project settings, and click \"designate instruments to events\"\n",
    "#    Click \"begin editing\". \n",
    "#    Check \"Event 1\" and \"Event 2\" for \"My first instrument\"\n",
    "#    Check \"Event 2\" for \"Repeated form\"\n",
    "#    Uncheck the last checkboxe.\n",
    "#    Click \"save\"\n",
    "# 4. Enable \"repeated instruments and events\" option in Redcap project settings\n",
    "#    Select \"Event 2\" as \"Repeat instruments independently of each other\", and select checkbox in front of \"Repeated instrument\"\n",
    "\n",
    "# Now, let's import a new subject ('subj2') with different data for field123 (part of \"my_first_instrument\") in both events\n",
    "# Check the report ( \"Data Exports, Reports, and Stats\". Select \"View report\" under \"All data\".)\n",
    "project.import_records([\n",
    "    {'record_id':'subj2', 'field123':'test api event1', 'redcap_event_name':'event_1_arm_1'},\n",
    "    {'record_id':'subj2', 'field123':'test api event2', 'redcap_event_name':'event_2_arm_1'},\n",
    "])\n",
    "\n"
   ]
  },
  {
   "cell_type": "code",
   "execution_count": 11,
   "metadata": {},
   "outputs": [
    {
     "data": {
      "text/plain": [
       "{'count': 1}"
      ]
     },
     "execution_count": 11,
     "metadata": {},
     "output_type": "execute_result"
    }
   ],
   "source": [
    "# Now let's import repeated measures for the same subject\n",
    "# Note the use of 'redcap_repeat_instrument' and  'redcap_repeat_instance' fields below.\n",
    "project.import_records([\n",
    "    {'record_id':'subj2', 'my_new_field2':'test api repeated measure1', 'redcap_event_name':'event_2_arm_1', \n",
    "     'redcap_repeat_instrument':'repeated_form', 'redcap_repeat_instance':1},\n",
    "    {'record_id':'subj2', 'my_new_field2':'test api another value', 'redcap_event_name':'event_2_arm_1', \n",
    "     'redcap_repeat_instrument':'repeated_form', 'redcap_repeat_instance':2},\n",
    "    {'record_id':'subj2', 'my_new_field2':'test api final value', 'redcap_event_name':'event_2_arm_1',\n",
    "     'redcap_repeat_instrument':'repeated_form', 'redcap_repeat_instance':3},    \n",
    "])\n"
   ]
  },
  {
   "cell_type": "code",
   "execution_count": null,
   "metadata": {},
   "outputs": [],
   "source": []
  },
  {
   "cell_type": "code",
   "execution_count": null,
   "metadata": {},
   "outputs": [],
   "source": []
  }
 ],
 "metadata": {
  "kernelspec": {
   "display_name": "Python 3",
   "language": "python",
   "name": "python3"
  },
  "language_info": {
   "codemirror_mode": {
    "name": "ipython",
    "version": 3
   },
   "file_extension": ".py",
   "mimetype": "text/x-python",
   "name": "python",
   "nbconvert_exporter": "python",
   "pygments_lexer": "ipython3",
   "version": "3.7.4"
  }
 },
 "nbformat": 4,
 "nbformat_minor": 2
}
